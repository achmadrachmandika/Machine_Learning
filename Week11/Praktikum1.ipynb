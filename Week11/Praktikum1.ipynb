{
  "nbformat": 4,
  "nbformat_minor": 0,
  "metadata": {
    "colab": {
      "provenance": [],
      "gpuType": "T4"
    },
    "kernelspec": {
      "name": "python3",
      "display_name": "Python 3"
    },
    "language_info": {
      "name": "python"
    },
    "accelerator": "GPU"
  },
  "cells": [
    {
      "cell_type": "markdown",
      "source": [
        "##Nama: Achmad Rachmandika Rizky Pratama\n",
        "##Kelas: 3A\n",
        "##NIM: 2041720125\n",
        "##Machine Learning\n",
        "Pertemuan 11"
      ],
      "metadata": {
        "id": "XeZMAP6SJnww"
      }
    },
    {
      "cell_type": "markdown",
      "source": [
        "##Praktikum1"
      ],
      "metadata": {
        "id": "j4PfDe-YJy1S"
      }
    },
    {
      "cell_type": "code",
      "source": [
        "from google.colab import drive\n",
        "drive.mount('/content/drive')"
      ],
      "metadata": {
        "colab": {
          "base_uri": "https://localhost:8080/"
        },
        "id": "ILw6sBArzf2i",
        "outputId": "e67e75a4-1000-4aba-8d45-8cd9af66b41c"
      },
      "execution_count": 4,
      "outputs": [
        {
          "output_type": "stream",
          "name": "stdout",
          "text": [
            "Drive already mounted at /content/drive; to attempt to forcibly remount, call drive.mount(\"/content/drive\", force_remount=True).\n"
          ]
        }
      ]
    },
    {
      "cell_type": "code",
      "source": [
        "from zipfile import ZipFile\n",
        "with ZipFile('/content/drive/MyDrive/Kuliah Semester 5/Machine Learning/Week11/dataset.zip', 'r') as zipobj:\n",
        "  zipobj.extractall('/content/drive/MyDrive/Kuliah Semester 5/Machine Learning')"
      ],
      "metadata": {
        "id": "tDG6vHQbzyPu"
      },
      "execution_count": 10,
      "outputs": []
    },
    {
      "cell_type": "markdown",
      "source": [
        "Langkah 1 - Import Library"
      ],
      "metadata": {
        "id": "p6jXB--i1cyJ"
      }
    },
    {
      "cell_type": "code",
      "source": [
        "import tensorflow as tf\n",
        "from keras.preprocessing.image import ImageDataGenerator"
      ],
      "metadata": {
        "id": "YwSf3mNVzk-B"
      },
      "execution_count": 11,
      "outputs": []
    },
    {
      "cell_type": "markdown",
      "source": [
        "##Langkah 2 - Pra Pengolahan Data\n",
        "Pada tahap ini kita akan sedikit melakukan manipulasi pada citra yang digunakan. Manipulasi yang dilakukan diantaranya adalah normalisasi nilai piksel, koreksi kemiringan, pembesaran (zoom), dan flip."
      ],
      "metadata": {
        "id": "OOvYw4xB1iYJ"
      }
    },
    {
      "cell_type": "markdown",
      "source": [
        "Langkah 2.1. Pra Pengolahan Data Training"
      ],
      "metadata": {
        "id": "WOkCIBip1nGj"
      }
    },
    {
      "cell_type": "code",
      "execution_count": 12,
      "metadata": {
        "colab": {
          "base_uri": "https://localhost:8080/"
        },
        "id": "DOlT87LgJg8K",
        "outputId": "b131bc18-ed97-46ed-ba22-23319be15f86"
      },
      "outputs": [
        {
          "output_type": "stream",
          "name": "stdout",
          "text": [
            "Found 8000 images belonging to 2 classes.\n"
          ]
        }
      ],
      "source": [
        "train_datagen = ImageDataGenerator(rescale = 1./255,\n",
        "                                   shear_range = 0.2,\n",
        "                                   zoom_range = 0.2,\n",
        "                                   horizontal_flip = True)\n",
        "training_set = train_datagen.flow_from_directory('/content/drive/MyDrive/Kuliah Semester 5/Machine Learning/dataset/training_set',\n",
        "                                                 target_size = (64, 64),\n",
        "                                                 batch_size = 32,\n",
        "                                                 class_mode = 'binary')"
      ]
    },
    {
      "cell_type": "markdown",
      "source": [
        "Langkah 2.2. Pra Pengolahan Data Testing"
      ],
      "metadata": {
        "id": "yv2LBLYn10U1"
      }
    },
    {
      "cell_type": "code",
      "source": [
        "test_datagen = ImageDataGenerator(rescale = 1./255)\n",
        "test_set = test_datagen.flow_from_directory('/content/drive/MyDrive/Kuliah Semester 5/Machine Learning/dataset/test_set',\n",
        "                                            target_size = (64, 64),\n",
        "                                            batch_size = 32,\n",
        "                                            class_mode = 'binary')"
      ],
      "metadata": {
        "colab": {
          "base_uri": "https://localhost:8080/"
        },
        "id": "N1l_SDUJxo7g",
        "outputId": "803d0e46-c745-4e1c-f364-f733e134f4ad"
      },
      "execution_count": 14,
      "outputs": [
        {
          "output_type": "stream",
          "name": "stdout",
          "text": [
            "Found 2000 images belonging to 2 classes.\n"
          ]
        }
      ]
    },
    {
      "cell_type": "markdown",
      "source": [
        "##Langkah 3 - Pembuatan Model CNN"
      ],
      "metadata": {
        "id": "GgxdK1emKBq6"
      }
    },
    {
      "cell_type": "markdown",
      "source": [
        "Langkah 3.1.  - Inisiasi Model CNN"
      ],
      "metadata": {
        "id": "Pmve4MlbKD_A"
      }
    },
    {
      "cell_type": "code",
      "source": [
        "cnn = tf.keras.models.Sequential()"
      ],
      "metadata": {
        "id": "6uwZapLjJ_uI"
      },
      "execution_count": 15,
      "outputs": []
    },
    {
      "cell_type": "markdown",
      "source": [
        "Langkah 3.2. - Pembuatan Layer Konvolusi 1"
      ],
      "metadata": {
        "id": "ozbyZI932OZQ"
      }
    },
    {
      "cell_type": "code",
      "source": [
        "cnn.add(tf.keras.layers.Conv2D(filters=32, kernel_size=3, activation='relu', input_shape=[64, 64, 3]))"
      ],
      "metadata": {
        "id": "j1jE1ZXu2QMv"
      },
      "execution_count": 16,
      "outputs": []
    },
    {
      "cell_type": "markdown",
      "source": [
        "Langkah 3.3 - Pembuatan Layer Pooling 1"
      ],
      "metadata": {
        "id": "L_ecLov82Sa2"
      }
    },
    {
      "cell_type": "code",
      "source": [
        "cnn.add(tf.keras.layers.MaxPool2D(pool_size=2, strides=2))"
      ],
      "metadata": {
        "id": "nUI-7Ydr2UGR"
      },
      "execution_count": 17,
      "outputs": []
    },
    {
      "cell_type": "markdown",
      "source": [
        "Langkah 3.4 - Pembuatan Layer Konvolusi 2 dan Pooling 2"
      ],
      "metadata": {
        "id": "ynLmXpDG2XK7"
      }
    },
    {
      "cell_type": "code",
      "source": [
        "cnn.add(tf.keras.layers.Conv2D(filters=32, kernel_size=3, activation='relu'))\n",
        "cnn.add(tf.keras.layers.MaxPool2D(pool_size=2, strides=2))"
      ],
      "metadata": {
        "id": "T57tlIdH2ZGy"
      },
      "execution_count": 18,
      "outputs": []
    },
    {
      "cell_type": "markdown",
      "source": [
        "Langkah 3.5 - Flattening"
      ],
      "metadata": {
        "id": "G8sO1H1b2bDW"
      }
    },
    {
      "cell_type": "code",
      "source": [
        "cnn.add(tf.keras.layers.Flatten())"
      ],
      "metadata": {
        "id": "ff1uxNJZ2c13"
      },
      "execution_count": 19,
      "outputs": []
    },
    {
      "cell_type": "markdown",
      "source": [
        "Langkah 3.6 - Fully Connected Layer 1 (Input)"
      ],
      "metadata": {
        "id": "2GyIaUy42e4P"
      }
    },
    {
      "cell_type": "code",
      "source": [
        "cnn.add(tf.keras.layers.Dense(units=128, activation='relu'))"
      ],
      "metadata": {
        "id": "0narFcOQ2gn7"
      },
      "execution_count": 20,
      "outputs": []
    },
    {
      "cell_type": "markdown",
      "source": [
        "Langkah 3.7 - Fully Connected Layer 2 (Output)"
      ],
      "metadata": {
        "id": "skMjMS0b2isn"
      }
    },
    {
      "cell_type": "code",
      "source": [
        "cnn.add(tf.keras.layers.Dense(units=1, activation='sigmoid'))"
      ],
      "metadata": {
        "id": "yFi0IisO2lBx"
      },
      "execution_count": 21,
      "outputs": []
    },
    {
      "cell_type": "markdown",
      "source": [
        "Langkah 3.8 - Compile Model CNN"
      ],
      "metadata": {
        "id": "ru6XbfLB2nAM"
      }
    },
    {
      "cell_type": "code",
      "source": [
        "cnn.compile(optimizer = 'adam', loss = 'binary_crossentropy', metrics = ['accuracy'])"
      ],
      "metadata": {
        "id": "T2Wt4zX02o3T"
      },
      "execution_count": 22,
      "outputs": []
    },
    {
      "cell_type": "markdown",
      "source": [
        "Penggunaan loss function binary crossentropy dikarenakan kita hanya melakukan klasifikasi pada dua kelas, yaitu kucing dan anjing."
      ],
      "metadata": {
        "id": "L0ukKNxI2q8T"
      }
    },
    {
      "cell_type": "markdown",
      "source": [
        "Langkah 4 - Fit CNN"
      ],
      "metadata": {
        "id": "hhpsSY6c2vlt"
      }
    },
    {
      "cell_type": "code",
      "source": [
        "cnn.fit(x = training_set, validation_data = test_set, epochs = 25)"
      ],
      "metadata": {
        "colab": {
          "base_uri": "https://localhost:8080/"
        },
        "id": "9fn53alD2s32",
        "outputId": "fc1f801d-72df-4d51-ec22-d39cf1a86d47"
      },
      "execution_count": 23,
      "outputs": [
        {
          "output_type": "stream",
          "name": "stdout",
          "text": [
            "Epoch 1/25\n",
            "250/250 [==============================] - 56s 180ms/step - loss: 0.6689 - accuracy: 0.5849 - val_loss: 0.6263 - val_accuracy: 0.6775\n",
            "Epoch 2/25\n",
            "250/250 [==============================] - 40s 158ms/step - loss: 0.6051 - accuracy: 0.6756 - val_loss: 0.5743 - val_accuracy: 0.7055\n",
            "Epoch 3/25\n",
            "250/250 [==============================] - 39s 154ms/step - loss: 0.5625 - accuracy: 0.7011 - val_loss: 0.5599 - val_accuracy: 0.7240\n",
            "Epoch 4/25\n",
            "250/250 [==============================] - 39s 157ms/step - loss: 0.5248 - accuracy: 0.7336 - val_loss: 0.5047 - val_accuracy: 0.7605\n",
            "Epoch 5/25\n",
            "250/250 [==============================] - 39s 155ms/step - loss: 0.4923 - accuracy: 0.7635 - val_loss: 0.5019 - val_accuracy: 0.7595\n",
            "Epoch 6/25\n",
            "250/250 [==============================] - 44s 176ms/step - loss: 0.4767 - accuracy: 0.7697 - val_loss: 0.5212 - val_accuracy: 0.7250\n",
            "Epoch 7/25\n",
            "250/250 [==============================] - 39s 155ms/step - loss: 0.4662 - accuracy: 0.7755 - val_loss: 0.5417 - val_accuracy: 0.7475\n",
            "Epoch 8/25\n",
            "250/250 [==============================] - 42s 170ms/step - loss: 0.4401 - accuracy: 0.7939 - val_loss: 0.4905 - val_accuracy: 0.7695\n",
            "Epoch 9/25\n",
            "250/250 [==============================] - 39s 155ms/step - loss: 0.4232 - accuracy: 0.8045 - val_loss: 0.4920 - val_accuracy: 0.7655\n",
            "Epoch 10/25\n",
            "250/250 [==============================] - 39s 155ms/step - loss: 0.4058 - accuracy: 0.8125 - val_loss: 0.5552 - val_accuracy: 0.7610\n",
            "Epoch 11/25\n",
            "250/250 [==============================] - 39s 156ms/step - loss: 0.3913 - accuracy: 0.8186 - val_loss: 0.4454 - val_accuracy: 0.7970\n",
            "Epoch 12/25\n",
            "250/250 [==============================] - 39s 155ms/step - loss: 0.3860 - accuracy: 0.8219 - val_loss: 0.4585 - val_accuracy: 0.7950\n",
            "Epoch 13/25\n",
            "250/250 [==============================] - 39s 156ms/step - loss: 0.3616 - accuracy: 0.8334 - val_loss: 0.4514 - val_accuracy: 0.7990\n",
            "Epoch 14/25\n",
            "250/250 [==============================] - 42s 166ms/step - loss: 0.3554 - accuracy: 0.8420 - val_loss: 0.4485 - val_accuracy: 0.8045\n",
            "Epoch 15/25\n",
            "250/250 [==============================] - 39s 156ms/step - loss: 0.3267 - accuracy: 0.8580 - val_loss: 0.4611 - val_accuracy: 0.7945\n",
            "Epoch 16/25\n",
            "250/250 [==============================] - 40s 162ms/step - loss: 0.3062 - accuracy: 0.8670 - val_loss: 0.4971 - val_accuracy: 0.7845\n",
            "Epoch 17/25\n",
            "250/250 [==============================] - 45s 178ms/step - loss: 0.2925 - accuracy: 0.8748 - val_loss: 0.4964 - val_accuracy: 0.8060\n",
            "Epoch 18/25\n",
            "250/250 [==============================] - 39s 156ms/step - loss: 0.2760 - accuracy: 0.8846 - val_loss: 0.4844 - val_accuracy: 0.8005\n",
            "Epoch 19/25\n",
            "250/250 [==============================] - 44s 177ms/step - loss: 0.2704 - accuracy: 0.8896 - val_loss: 0.5085 - val_accuracy: 0.7935\n",
            "Epoch 20/25\n",
            "250/250 [==============================] - 39s 157ms/step - loss: 0.2517 - accuracy: 0.8955 - val_loss: 0.4961 - val_accuracy: 0.8015\n",
            "Epoch 21/25\n",
            "250/250 [==============================] - 39s 155ms/step - loss: 0.2404 - accuracy: 0.8992 - val_loss: 0.5353 - val_accuracy: 0.7885\n",
            "Epoch 22/25\n",
            "250/250 [==============================] - 40s 162ms/step - loss: 0.2231 - accuracy: 0.9115 - val_loss: 0.5372 - val_accuracy: 0.7990\n",
            "Epoch 23/25\n",
            "250/250 [==============================] - 39s 157ms/step - loss: 0.2187 - accuracy: 0.9093 - val_loss: 0.5634 - val_accuracy: 0.7955\n",
            "Epoch 24/25\n",
            "250/250 [==============================] - 39s 157ms/step - loss: 0.1994 - accuracy: 0.9224 - val_loss: 0.5780 - val_accuracy: 0.7990\n",
            "Epoch 25/25\n",
            "250/250 [==============================] - 40s 162ms/step - loss: 0.1952 - accuracy: 0.9237 - val_loss: 0.5689 - val_accuracy: 0.7965\n"
          ]
        },
        {
          "output_type": "execute_result",
          "data": {
            "text/plain": [
              "<keras.src.callbacks.History at 0x7eaaed34aef0>"
            ]
          },
          "metadata": {},
          "execution_count": 23
        }
      ]
    },
    {
      "cell_type": "markdown",
      "source": [
        "Langkah 5 - Prediksi dengan 1 Citra\n",
        "Pada langkah ini, kita akan mencoba melakukan prediksi pada 1 citra anjing dan kucing."
      ],
      "metadata": {
        "id": "Y0eliKry65s_"
      }
    },
    {
      "cell_type": "code",
      "source": [
        "import numpy as np\n",
        "from keras.preprocessing import image\n",
        "test_image = image.load_img('/content/drive/MyDrive/Kuliah Semester 5/Machine Learning/dataset/single_prediction/cat_or_dog_1.jpg', target_size = (64, 64))\n",
        "test_image = image.img_to_array(test_image)\n",
        "test_image = np.expand_dims(test_image, axis = 0)\n",
        "result = cnn.predict(test_image)\n",
        "training_set.class_indices\n",
        "if result[0][0] == 1:\n",
        "  prediction = 'dog'\n",
        "else:\n",
        "  prediction = 'cat'"
      ],
      "metadata": {
        "colab": {
          "base_uri": "https://localhost:8080/"
        },
        "id": "f4AlDf-L63f8",
        "outputId": "ddb21e64-10f8-4235-c4b3-a6467e2bc370"
      },
      "execution_count": 24,
      "outputs": [
        {
          "output_type": "stream",
          "name": "stdout",
          "text": [
            "1/1 [==============================] - 0s 152ms/step\n"
          ]
        }
      ]
    }
  ]
}
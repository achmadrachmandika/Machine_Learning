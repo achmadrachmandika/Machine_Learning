{
  "cells": [
    {
      "cell_type": "code",
      "execution_count": 1,
      "metadata": {
        "id": "NFRzGFc6xNej"
      },
      "outputs": [],
      "source": [
        "import numpy as np\n",
        "import tensorflow_datasets as tfds\n",
        "import tensorflow as tf\n",
        "\n",
        "tfds.disable_progress_bar()"
      ]
    },
    {
      "cell_type": "markdown",
      "metadata": {
        "id": "YDVwz5iEzRC8"
      },
      "source": [
        "Setup input pipeline\n",
        "\n",
        "Dataset ulasan film IMDB adalah kumpulan data klasifikasi biner—semua ulasan memiliki sentimen positif atau negatif.\n",
        "\n",
        "Download dataset menggunakan TFDS. Lihat loading text tutorial jika ingin me load data secara manual"
      ]
    },
    {
      "cell_type": "code",
      "execution_count": 2,
      "metadata": {
        "colab": {
          "base_uri": "https://localhost:8080/"
        },
        "id": "3yrRsJeizUZF",
        "outputId": "69674c23-88a0-4e9d-f5f3-93f54ca9356a"
      },
      "outputs": [
        {
          "output_type": "stream",
          "name": "stdout",
          "text": [
            "Downloading and preparing dataset 11.06 MiB (download: 11.06 MiB, generated: 21.00 MiB, total: 32.06 MiB) to /root/tensorflow_datasets/mnist/3.0.1...\n",
            "Dataset mnist downloaded and prepared to /root/tensorflow_datasets/mnist/3.0.1. Subsequent calls will reuse this data.\n"
          ]
        }
      ],
      "source": [
        "import tensorflow as tf\n",
        "import tensorflow_datasets as tfds\n",
        "\n",
        "# Construct a tf.data.Dataset\n",
        "ds = tfds.load('mnist', split='train', shuffle_files=True)\n",
        "\n",
        "# Build your input pipeline\n",
        "ds = ds.shuffle(1024).batch(32).prefetch(tf.data.AUTOTUNE)\n",
        "for example in ds.take(1):\n",
        "  image, label = example[\"image\"], example[\"label\"]"
      ]
    },
    {
      "cell_type": "code",
      "execution_count": 3,
      "metadata": {
        "colab": {
          "base_uri": "https://localhost:8080/"
        },
        "id": "l82FfCE2ziHw",
        "outputId": "620ad440-c9c6-45b4-e5df-98ad90504729"
      },
      "outputs": [
        {
          "output_type": "stream",
          "name": "stdout",
          "text": [
            "Downloading and preparing dataset 80.23 MiB (download: 80.23 MiB, generated: Unknown size, total: 80.23 MiB) to /root/tensorflow_datasets/imdb_reviews/plain_text/1.0.0...\n",
            "Dataset imdb_reviews downloaded and prepared to /root/tensorflow_datasets/imdb_reviews/plain_text/1.0.0. Subsequent calls will reuse this data.\n"
          ]
        },
        {
          "output_type": "execute_result",
          "data": {
            "text/plain": [
              "(TensorSpec(shape=(), dtype=tf.string, name=None),\n",
              " TensorSpec(shape=(), dtype=tf.int64, name=None))"
            ]
          },
          "metadata": {},
          "execution_count": 3
        }
      ],
      "source": [
        "dataset, info = tfds.load('imdb_reviews', with_info=True,\n",
        "                          as_supervised=True)\n",
        "train_dataset, test_dataset = dataset['train'], dataset['test']\n",
        "\n",
        "train_dataset.element_spec"
      ]
    },
    {
      "cell_type": "code",
      "source": [
        "for example, label in train_dataset.take(1):\n",
        "  print('text: ', example.numpy())\n",
        "  print('label: ', label.numpy())"
      ],
      "metadata": {
        "colab": {
          "base_uri": "https://localhost:8080/"
        },
        "id": "BZgtaJk5fwlf",
        "outputId": "39126e05-6ec0-46cc-9f5f-90fe2de4cada"
      },
      "execution_count": 4,
      "outputs": [
        {
          "output_type": "stream",
          "name": "stdout",
          "text": [
            "text:  b\"This was an absolutely terrible movie. Don't be lured in by Christopher Walken or Michael Ironside. Both are great actors, but this must simply be their worst role in history. Even their great acting could not redeem this movie's ridiculous storyline. This movie is an early nineties US propaganda piece. The most pathetic scenes were those when the Columbian rebels were making their cases for revolutions. Maria Conchita Alonso appeared phony, and her pseudo-love affair with Walken was nothing but a pathetic emotional plug in a movie that was devoid of any real meaning. I am disappointed that there are movies like this, ruining actor's like Christopher Walken's good name. I could barely sit through it.\"\n",
            "label:  0\n"
          ]
        }
      ]
    },
    {
      "cell_type": "code",
      "source": [
        "BUFFER_SIZE = 10000\n",
        "BATCH_SIZE = 64\n",
        "\n",
        "train_dataset = train_dataset.shuffle(BUFFER_SIZE).batch(BATCH_SIZE).prefetch(tf.data.AUTOTUNE)\n",
        "test_dataset = test_dataset.batch(BATCH_SIZE).prefetch(tf.data.AUTOTUNE)\n",
        "\n",
        "for example, label in train_dataset.take(1):\n",
        "  print('texts: ', example.numpy()[:3])\n",
        "  print()\n",
        "  print('labels: ', label.numpy()[:3])\n"
      ],
      "metadata": {
        "colab": {
          "base_uri": "https://localhost:8080/"
        },
        "id": "gC0quHq2fzvi",
        "outputId": "7e0f6c3e-131e-4a68-f4f8-95352140e46e"
      },
      "execution_count": 5,
      "outputs": [
        {
          "output_type": "stream",
          "name": "stdout",
          "text": [
            "texts:  [b'<br /><br />Ok the film wasn\\'t going to win any awards and it is pure bubblegum, and it is a modern update on \"It\\'s a wonderful life\". But it\\'s just come out as a cheap release on DVD and there are a lot worse ways of blowing $13. You get a film that has a surprisingly strong cast but for most they were still a year or two from becoming B list celebs. However it\\'s an enjoyable way of passing an hour and half just don\\'t think too much in it.'\n",
            " b'Once in a while in Indian cinema there comes along a movie like Sholay that changes the way the audience perceives a good movie. And den just once in a while(hopefully) we have a RGV ki Aag that breaks all the standards and creates one of its own. A standard so low, it can never be broken. Ram Gopal varma manages to take a melting pot of talent and create a dish so stale u can smell it from a distance. To take a classic like Sholay and assassinate it is totally unforgivable and I can\\'t believe he almost called the movie RGV ki Sholay. Although Sholay had a lot of folklore elements in it, the movie managed to build on its plot by merely defining the characters so distinctively that they lived on forever. What Aag does is take these characters and mess them up so badly u\\'ll need a contest to pick the worst. The realism element is totally missing and what the movie ends up providing is a bunch of \"actors\" parading along in a plot less and seemingly unrelated set of events. One star for this film is a ridiculous waste of a vote. its time for RGV to wake up to the reality of his failure and conjure up another \"different\" plot that can be categorized under cinema.'\n",
            " b'Raising Victor Vargas fails terribly in what it tries most to be: being real. Unfortunately, there is no reality to this film. The characters and situations feel completely artificial and fake.<br /><br />The reason? Bad directing. Peter Sollett uses all the wrong tools in his arsenal. It seems Mr. Sollett read somewhere that not lighting his film would give it an authentic feel. Wrong! It just gives it a badly-made feel. Similarly, shaking the camera does not give a documentary style to your film, it just gives the audience a headache and detracts from what\\'s on screen instead of enhance it.<br /><br />Of course, what\\'s on screen is so painfully fake, as if Mr. Sollett wrote his script with the only goal of trying to look \"hip\" to his Sundance buddies and show how \"edgy\" a filmmaker he is.<br /><br />Overall, the only lasting impression this film leaves you with is what a bad director Mr. Sollett is. Next time, how about taking a few writing and directing classes?']\n",
            "\n",
            "labels:  [1 0 0]\n"
          ]
        }
      ]
    },
    {
      "cell_type": "markdown",
      "source": [
        "Buat Teks Encoder"
      ],
      "metadata": {
        "id": "DyKsRGqof1PU"
      }
    },
    {
      "cell_type": "code",
      "source": [
        "VOCAB_SIZE = 1000\n",
        "encoder = tf.keras.layers.TextVectorization(\n",
        "    max_tokens=VOCAB_SIZE)\n",
        "encoder.adapt(train_dataset.map(lambda text, label: text))"
      ],
      "metadata": {
        "id": "oQy589lbf3RR"
      },
      "execution_count": 8,
      "outputs": []
    },
    {
      "cell_type": "markdown",
      "source": [],
      "metadata": {
        "id": "N5gjHg64f98Y"
      }
    },
    {
      "cell_type": "code",
      "source": [
        "vocab = np.array(encoder.get_vocabulary())\n",
        "vocab[:20]"
      ],
      "metadata": {
        "colab": {
          "base_uri": "https://localhost:8080/"
        },
        "id": "NBH2OW6if-QQ",
        "outputId": "ece20eea-f34f-41d5-e6f1-be25e41b166c"
      },
      "execution_count": 10,
      "outputs": [
        {
          "output_type": "execute_result",
          "data": {
            "text/plain": [
              "array(['', '[UNK]', 'the', 'and', 'a', 'of', 'to', 'is', 'in', 'it', 'i',\n",
              "       'this', 'that', 'br', 'was', 'as', 'for', 'with', 'movie', 'but'],\n",
              "      dtype='<U14')"
            ]
          },
          "metadata": {},
          "execution_count": 10
        }
      ]
    },
    {
      "cell_type": "code",
      "source": [
        "encoded_example=encoder(example)[:3].numpy()\n",
        "encoded_example"
      ],
      "metadata": {
        "colab": {
          "base_uri": "https://localhost:8080/"
        },
        "id": "Ud5ksD_PgOkn",
        "outputId": "12aeb196-78a9-4726-969c-500f4fa46049"
      },
      "execution_count": 12,
      "outputs": [
        {
          "output_type": "execute_result",
          "data": {
            "text/plain": [
              "array([[ 13,  13, 597, ...,   0,   0,   0],\n",
              "       [272,   8,   4, ...,   0,   0,   0],\n",
              "       [  1,   1,   1, ...,   0,   0,   0]])"
            ]
          },
          "metadata": {},
          "execution_count": 12
        }
      ]
    },
    {
      "cell_type": "code",
      "source": [
        "for n in range(3):\n",
        "  print(\"Original: \", example[n].numpy())\n",
        "  print(\"Round-trip: \", \" \".join(vocab[encoded_example[n]]))\n",
        "  print()"
      ],
      "metadata": {
        "colab": {
          "base_uri": "https://localhost:8080/"
        },
        "id": "Q816J5F8gSYn",
        "outputId": "5630cfe1-d76b-4c67-cb3a-3663df66ef60"
      },
      "execution_count": 13,
      "outputs": [
        {
          "output_type": "stream",
          "name": "stdout",
          "text": [
            "Original:  b'<br /><br />Ok the film wasn\\'t going to win any awards and it is pure bubblegum, and it is a modern update on \"It\\'s a wonderful life\". But it\\'s just come out as a cheap release on DVD and there are a lot worse ways of blowing $13. You get a film that has a surprisingly strong cast but for most they were still a year or two from becoming B list celebs. However it\\'s an enjoyable way of passing an hour and half just don\\'t think too much in it.'\n",
            "Round-trip:  br br ok the film wasnt going to [UNK] any [UNK] and it is [UNK] [UNK] and it is a modern [UNK] on its a wonderful life but its just come out as a cheap release on dvd and there are a lot worse ways of [UNK] [UNK] you get a film that has a [UNK] strong cast but for most they were still a year or two from [UNK] b [UNK] [UNK] however its an enjoyable way of [UNK] an hour and half just dont think too much in it                                                                                                                                                                                                                                                                                                                                                                                                                                                                                                                                                                                                                                                                                                                                                                                                                                       \n",
            "\n",
            "Original:  b'Once in a while in Indian cinema there comes along a movie like Sholay that changes the way the audience perceives a good movie. And den just once in a while(hopefully) we have a RGV ki Aag that breaks all the standards and creates one of its own. A standard so low, it can never be broken. Ram Gopal varma manages to take a melting pot of talent and create a dish so stale u can smell it from a distance. To take a classic like Sholay and assassinate it is totally unforgivable and I can\\'t believe he almost called the movie RGV ki Sholay. Although Sholay had a lot of folklore elements in it, the movie managed to build on its plot by merely defining the characters so distinctively that they lived on forever. What Aag does is take these characters and mess them up so badly u\\'ll need a contest to pick the worst. The realism element is totally missing and what the movie ends up providing is a bunch of \"actors\" parading along in a plot less and seemingly unrelated set of events. One star for this film is a ridiculous waste of a vote. its time for RGV to wake up to the reality of his failure and conjure up another \"different\" plot that can be categorized under cinema.'\n",
            "Round-trip:  once in a while in [UNK] cinema there comes along a movie like [UNK] that [UNK] the way the audience [UNK] a good movie and [UNK] just once in a [UNK] we have a [UNK] [UNK] [UNK] that [UNK] all the [UNK] and [UNK] one of its own a [UNK] so low it can never be [UNK] [UNK] [UNK] [UNK] manages to take a [UNK] [UNK] of talent and create a [UNK] so [UNK] [UNK] can [UNK] it from a [UNK] to take a classic like [UNK] and [UNK] it is totally [UNK] and i cant believe he almost called the movie [UNK] [UNK] [UNK] although [UNK] had a lot of [UNK] elements in it the movie [UNK] to [UNK] on its plot by [UNK] [UNK] the characters so [UNK] that they [UNK] on [UNK] what [UNK] does is take these characters and mess them up so badly [UNK] need a [UNK] to [UNK] the worst the [UNK] [UNK] is totally missing and what the movie ends up [UNK] is a bunch of actors [UNK] along in a plot less and [UNK] [UNK] set of events one star for this film is a ridiculous waste of a [UNK] its time for [UNK] to [UNK] up to the reality of his [UNK] and [UNK] up another different plot that can be [UNK] under cinema                                                                                                                                                                                                                                                                                                                                                                                                                                                                                                                                                                                                                                                                                                   \n",
            "\n",
            "Original:  b'Raising Victor Vargas fails terribly in what it tries most to be: being real. Unfortunately, there is no reality to this film. The characters and situations feel completely artificial and fake.<br /><br />The reason? Bad directing. Peter Sollett uses all the wrong tools in his arsenal. It seems Mr. Sollett read somewhere that not lighting his film would give it an authentic feel. Wrong! It just gives it a badly-made feel. Similarly, shaking the camera does not give a documentary style to your film, it just gives the audience a headache and detracts from what\\'s on screen instead of enhance it.<br /><br />Of course, what\\'s on screen is so painfully fake, as if Mr. Sollett wrote his script with the only goal of trying to look \"hip\" to his Sundance buddies and show how \"edgy\" a filmmaker he is.<br /><br />Overall, the only lasting impression this film leaves you with is what a bad director Mr. Sollett is. Next time, how about taking a few writing and directing classes?'\n",
            "Round-trip:  [UNK] [UNK] [UNK] fails [UNK] in what it tries most to be being real unfortunately there is no reality to this film the characters and [UNK] feel completely [UNK] and [UNK] br the reason bad directing peter [UNK] [UNK] all the wrong [UNK] in his [UNK] it seems mr [UNK] read [UNK] that not [UNK] his film would give it an [UNK] feel wrong it just gives it a [UNK] feel [UNK] [UNK] the camera does not give a documentary style to your film it just gives the audience a [UNK] and [UNK] from whats on screen instead of [UNK] itbr br of course whats on screen is so [UNK] [UNK] as if mr [UNK] [UNK] his script with the only [UNK] of trying to look [UNK] to his [UNK] [UNK] and show how [UNK] a [UNK] he [UNK] br overall the only [UNK] [UNK] this film leaves you with is what a bad director mr [UNK] is next time how about taking a few writing and directing [UNK]                                                                                                                                                                                                                                                                                                                                                                                                                                                                                                                                                                                                                                                                                                                                                         \n",
            "\n"
          ]
        }
      ]
    },
    {
      "cell_type": "markdown",
      "source": [
        "Model ini dapat dibuat sebagai tf.keras.Sequential.\n",
        " Lapisan pertama adalah encoder, yang mengubah teks menjadi urutan indeks token.\n",
        "\n",
        "Setelah encoder adalah lapisan penyematan (embedding layer). Lapisan penyematan menyimpan satu vektor per kata. Saat dipanggil, ini mengubah rangkaian indeks kata menjadi rangkaian vektor. Vektor-vektor ini dapat dilatih. Setelah pelatihan (dengan data yang cukup), kata-kata dengan arti yang mirip sering kali memiliki vektor yang serupa. Pencarian indeks ini jauh lebih efisien daripada operasi setara dengan meneruskan vektor yang disandikan one-hot melalui lapisan tf.keras.layers.Dense.\n",
        "\n",
        "Jaringan saraf berulang (RNN) memproses masukan urutan dengan melakukan iterasi melalui elemen. RNN meneruskan keluaran dari satu langkah waktu ke masukannya pada langkah waktu berikutnya.\n",
        "\n",
        "Pembungkus tf.keras.layers.Bidirection juga dapat digunakan dengan lapisan RNN. Ini menyebarkan masukan maju dan mundur melalui lapisan RNN dan kemudian menggabungkan keluaran akhir.\n",
        "\n",
        "-Keuntungan utama RNN dua arah adalah sinyal dari awal masukan tidak perlu diproses sepanjang waktu untuk memengaruhi keluaran.\n",
        "\n",
        "-Kerugian utama dari RNN dua arah adalah Anda tidak dapat melakukan streaming prediksi secara efisien saat kata-kata ditambahkan di akhir.\n",
        "\n",
        "Setelah RNN mengonversi urutan menjadi satu vektor, kedua lapisan tersebut.Dense melakukan beberapa pemrosesan akhir, dan mengonversi representasi vektor ini menjadi logit tunggal sebagai keluaran klasifikasi."
      ],
      "metadata": {
        "id": "MaaUu5RqgZaL"
      }
    },
    {
      "cell_type": "code",
      "source": [
        "model = tf.keras.Sequential([\n",
        "    encoder,\n",
        "    tf.keras.layers.Embedding(\n",
        "        input_dim=len(encoder.get_vocabulary()),\n",
        "        output_dim=64,\n",
        "        # Use masking to handle the variable sequence lengths\n",
        "        mask_zero=True),\n",
        "    tf.keras.layers.Bidirectional(tf.keras.layers.LSTM(64)),\n",
        "    tf.keras.layers.Dense(64, activation='relu'),\n",
        "    tf.keras.layers.Dense(1)\n",
        "])"
      ],
      "metadata": {
        "id": "TLAjHn-ggVy1"
      },
      "execution_count": 14,
      "outputs": []
    },
    {
      "cell_type": "markdown",
      "source": [
        "Lapisan penyematan menggunakan masking (uses masking ) untuk menangani panjang urutan yang bervariasi. Semua lapisan setelah penyematan dukungan penyematan"
      ],
      "metadata": {
        "id": "LkUpd98Igjk7"
      }
    },
    {
      "cell_type": "code",
      "source": [
        "print([layer.supports_masking for layer in model.layers])"
      ],
      "metadata": {
        "colab": {
          "base_uri": "https://localhost:8080/"
        },
        "id": "K_duNcnugkbt",
        "outputId": "4d40991a-5df0-4f40-b194-91a25030d8f1"
      },
      "execution_count": 15,
      "outputs": [
        {
          "output_type": "stream",
          "name": "stdout",
          "text": [
            "[False, True, True, True, True]\n"
          ]
        }
      ]
    },
    {
      "cell_type": "code",
      "source": [
        "# predict on a sample text without padding.\n",
        "\n",
        "sample_text = ('The movie was cool. The animation and the graphics '\n",
        "               'were out of this world. I would recommend this movie.')\n",
        "predictions = model.predict(np.array([sample_text]))\n",
        "print(predictions[0])"
      ],
      "metadata": {
        "colab": {
          "base_uri": "https://localhost:8080/"
        },
        "id": "mYRRvOingwbD",
        "outputId": "ef0a0a62-d19d-4bc3-f710-85b8793755fe"
      },
      "execution_count": 16,
      "outputs": [
        {
          "output_type": "stream",
          "name": "stdout",
          "text": [
            "1/1 [==============================] - 3s 3s/step\n",
            "[-0.00754666]\n"
          ]
        }
      ]
    },
    {
      "cell_type": "markdown",
      "source": [
        "Sekarang, evaluasi lagi dalam batch dengan kalimat yang lebih panjang. Hasilnya harus sama:"
      ],
      "metadata": {
        "id": "e0HWqdQpg1UX"
      }
    },
    {
      "cell_type": "code",
      "source": [
        "# predict on a sample text with padding\n",
        "\n",
        "padding = \"the \" * 2000\n",
        "predictions = model.predict(np.array([sample_text, padding]))\n",
        "print(predictions[0])"
      ],
      "metadata": {
        "colab": {
          "base_uri": "https://localhost:8080/"
        },
        "id": "YPYfF79Hg17B",
        "outputId": "14f74513-74af-4045-f473-76b73dc24964"
      },
      "execution_count": 17,
      "outputs": [
        {
          "output_type": "stream",
          "name": "stdout",
          "text": [
            "1/1 [==============================] - 0s 360ms/step\n",
            "[-0.00754666]\n"
          ]
        }
      ]
    },
    {
      "cell_type": "markdown",
      "source": [
        "compile model Keras untuk mengonfigurasi proses pelatihan:"
      ],
      "metadata": {
        "id": "lD2NrrhOg5qx"
      }
    },
    {
      "cell_type": "code",
      "source": [
        "model.compile(loss=tf.keras.losses.BinaryCrossentropy(from_logits=True),\n",
        "              optimizer=tf.keras.optimizers.Adam(1e-4),\n",
        "              metrics=['accuracy'])"
      ],
      "metadata": {
        "id": "TW8N0oPHg6Hb"
      },
      "execution_count": 18,
      "outputs": []
    },
    {
      "cell_type": "markdown",
      "source": [
        "##Train Model"
      ],
      "metadata": {
        "id": "Rbw56liKg9tm"
      }
    },
    {
      "cell_type": "code",
      "source": [
        "history = model.fit(train_dataset, epochs=10,\n",
        "                    validation_data=test_dataset,\n",
        "                    validation_steps=30)"
      ],
      "metadata": {
        "colab": {
          "base_uri": "https://localhost:8080/"
        },
        "id": "Jfg0gRM2g-8M",
        "outputId": "fcb7f7c2-a113-4c69-b3cc-62e9f73eea50"
      },
      "execution_count": 20,
      "outputs": [
        {
          "output_type": "stream",
          "name": "stdout",
          "text": [
            "Epoch 1/10\n",
            "391/391 [==============================] - 693s 2s/step - loss: 0.6744 - accuracy: 0.5098 - val_loss: 0.6128 - val_accuracy: 0.4917\n",
            "Epoch 2/10\n",
            "391/391 [==============================] - 655s 2s/step - loss: 0.5412 - accuracy: 0.7314 - val_loss: 0.4626 - val_accuracy: 0.7917\n",
            "Epoch 3/10\n",
            "391/391 [==============================] - 663s 2s/step - loss: 0.4047 - accuracy: 0.8207 - val_loss: 0.3720 - val_accuracy: 0.8307\n",
            "Epoch 4/10\n",
            "391/391 [==============================] - 662s 2s/step - loss: 0.3485 - accuracy: 0.8462 - val_loss: 0.3500 - val_accuracy: 0.8448\n",
            "Epoch 5/10\n",
            "391/391 [==============================] - 663s 2s/step - loss: 0.3302 - accuracy: 0.8560 - val_loss: 0.3426 - val_accuracy: 0.8542\n",
            "Epoch 6/10\n",
            "391/391 [==============================] - 649s 2s/step - loss: 0.3214 - accuracy: 0.8620 - val_loss: 0.3410 - val_accuracy: 0.8474\n",
            "Epoch 7/10\n",
            "391/391 [==============================] - 645s 2s/step - loss: 0.3156 - accuracy: 0.8641 - val_loss: 0.3566 - val_accuracy: 0.8250\n",
            "Epoch 8/10\n",
            "391/391 [==============================] - 666s 2s/step - loss: 0.3104 - accuracy: 0.8656 - val_loss: 0.3249 - val_accuracy: 0.8599\n",
            "Epoch 9/10\n",
            "391/391 [==============================] - 651s 2s/step - loss: 0.3083 - accuracy: 0.8658 - val_loss: 0.3245 - val_accuracy: 0.8615\n",
            "Epoch 10/10\n",
            "391/391 [==============================] - 651s 2s/step - loss: 0.3069 - accuracy: 0.8678 - val_loss: 0.3328 - val_accuracy: 0.8609\n"
          ]
        }
      ]
    },
    {
      "cell_type": "code",
      "source": [
        "test_loss, test_acc = model.evaluate(test_dataset)\n",
        "\n",
        "print('Test Loss:', test_loss)\n",
        "print('Test Accuracy:', test_acc)"
      ],
      "metadata": {
        "colab": {
          "base_uri": "https://localhost:8080/"
        },
        "id": "EyNUMPwj7bpw",
        "outputId": "5bcdd32a-bcd9-4690-bee1-791b1acdf508"
      },
      "execution_count": 21,
      "outputs": [
        {
          "output_type": "stream",
          "name": "stdout",
          "text": [
            "391/391 [==============================] - 160s 408ms/step - loss: 0.3247 - accuracy: 0.8537\n",
            "Test Loss: 0.3246864080429077\n",
            "Test Accuracy: 0.8536800146102905\n"
          ]
        }
      ]
    },
    {
      "cell_type": "code",
      "source": [
        "import matplotlib.pyplot as plt\n",
        "\n",
        "def plot_graphs(history, metric):\n",
        "  plt.plot(history.history[metric])\n",
        "  plt.plot(history.history['val_'+metric], '')\n",
        "  plt.xlabel(\"Epochs\")\n",
        "  plt.ylabel(metric)\n",
        "  plt.legend([metric, 'val_'+metric])"
      ],
      "metadata": {
        "id": "3MmQMJQb87dE"
      },
      "execution_count": 26,
      "outputs": []
    },
    {
      "cell_type": "code",
      "source": [
        "plt.figure(figsize=(16, 8))\n",
        "plt.subplot(1, 2, 1)\n",
        "plot_graphs(history, 'accuracy')\n",
        "plt.ylim(None, 1)\n",
        "plt.subplot(1, 2, 2)\n",
        "plot_graphs(history, 'loss')\n",
        "plt.ylim(0, None)"
      ],
      "metadata": {
        "colab": {
          "base_uri": "https://localhost:8080/",
          "height": 718
        },
        "id": "pKjk97ux8qjp",
        "outputId": "5a539217-9112-4f3a-c139-4e797bd7d3cf"
      },
      "execution_count": 27,
      "outputs": [
        {
          "output_type": "execute_result",
          "data": {
            "text/plain": [
              "(0.0, 0.6928216814994812)"
            ]
          },
          "metadata": {},
          "execution_count": 27
        },
        {
          "output_type": "display_data",
          "data": {
            "text/plain": [
              "<Figure size 1600x800 with 2 Axes>"
            ],
            "image/png": "[encoded data removed]"
          },
          "metadata": {}
        }
      ]
    },
    {
      "cell_type": "markdown",
      "source": [
        "Jalankan prediksi pada kalimat baru:\n",
        "\n",
        "Jika prediksi >= 0,0 berarti positif, jika tidak maka negatif."
      ],
      "metadata": {
        "id": "tWW5GzSr9ImI"
      }
    },
    {
      "cell_type": "code",
      "source": [
        "sample_text = ('The movie was cool. The animation and the graphics '\n",
        "'were out of this world. I would recommend this movie.')\n",
        "predictions = model.predict(np.array([sample_text]))"
      ],
      "metadata": {
        "colab": {
          "base_uri": "https://localhost:8080/"
        },
        "id": "EmPppuFI9E7r",
        "outputId": "60d5c27f-e308-4ba1-9dc6-f92289b2c819"
      },
      "execution_count": 28,
      "outputs": [
        {
          "output_type": "stream",
          "name": "stdout",
          "text": [
            "1/1 [==============================] - 3s 3s/step\n"
          ]
        }
      ]
    },
    {
      "cell_type": "markdown",
      "source": [
        "Stack two or more LSTM layers"
      ],
      "metadata": {
        "id": "35XkpeHI9Q-w"
      }
    },
    {
      "cell_type": "code",
      "source": [
        "model = tf.keras.Sequential([\n",
        "   encoder,\n",
        "    tf.keras.layers.Embedding(len(encoder.get_vocabulary()), 64, mask_zero=True),\n",
        "    tf.keras.layers.Bidirectional(tf.keras.layers.LSTM(64, return_sequences=True)),\n",
        "    tf.keras.layers.Bidirectional(tf.keras.layers.LSTM(32)),\n",
        "    tf.keras.layers.Dense(64, activation='relu'),\n",
        "    tf.keras.layers.Dropout(0.5),\n",
        "    tf.keras.layers.Dense(1)\n",
        "])"
      ],
      "metadata": {
        "id": "Bgijv-WG9PWF"
      },
      "execution_count": 30,
      "outputs": []
    },
    {
      "cell_type": "code",
      "source": [
        "model.compile(loss=tf.keras.losses.BinaryCrossentropy(from_logits=True),\n",
        "              optimizer=tf.keras.optimizers.Adam(1e-4),\n",
        "              metrics=['accuracy'])"
      ],
      "metadata": {
        "id": "54jioJJA9fsF"
      },
      "execution_count": 31,
      "outputs": []
    },
    {
      "cell_type": "code",
      "source": [
        "history = model.fit(train_dataset, epochs=10,\n",
        "                validation_data=test_dataset,\n",
        "                validation_steps=30)"
      ],
      "metadata": {
        "colab": {
          "base_uri": "https://localhost:8080/"
        },
        "id": "FY5Iw-Cz9jko",
        "outputId": "b4a7207f-8fd7-4db9-acc5-6fe723627371"
      },
      "execution_count": null,
      "outputs": [
        {
          "output_type": "stream",
          "name": "stdout",
          "text": [
            "Epoch 1/10\n",
            "391/391 [==============================] - 1395s 4s/step - loss: 0.6153 - accuracy: 0.6039 - val_loss: 0.4276 - val_accuracy: 0.8109\n",
            "Epoch 2/10\n",
            "111/391 [=======>......................] - ETA: 15:14 - loss: 0.4123 - accuracy: 0.8231"
          ]
        }
      ]
    }
  ],
  "metadata": {
    "colab": {
      "provenance": []
    },
    "kernelspec": {
      "display_name": "Python 3",
      "name": "python3"
    },
    "language_info": {
      "name": "python"
    }
  },
  "nbformat": 4,
  "nbformat_minor": 0
}